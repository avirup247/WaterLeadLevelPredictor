{
 "cells": [
  {
   "attachments": {},
   "cell_type": "markdown",
   "id": "f4b7f68f-a8eb-472d-bac1-2226dd967775",
   "metadata": {},
   "source": [
    "# Intel® oneAPI Rendering Toolkit\n",
    "\n",
    "#### Powerful Libraries for High-Fidelity Rendering and Visualization Applications"
   ]
  },
  {
   "attachments": {},
   "cell_type": "markdown",
   "id": "e9bdf166-8585-4f9c-b7f1-edb646b4ef2d",
   "metadata": {},
   "source": [
    "### Get the training below!"
   ]
  },
  {
   "cell_type": "code",
   "execution_count": null,
   "id": "9b50012b-d156-4c26-bab0-f0305419dbf2",
   "metadata": {},
   "outputs": [],
   "source": [
    "! rsync -avhP /data/oneapi_workshop/big_datasets/RenderKit_Learning_Path ~/"
   ]
  },
  {
   "cell_type": "code",
   "execution_count": null,
   "id": "6394e2af-25e5-4f8f-80fd-4e9b20e4e479",
   "metadata": {},
   "outputs": [],
   "source": []
  }
 ],
 "metadata": {
  "kernelspec": {
   "display_name": "Python 3 (Intel® oneAPI 2022.3)",
   "language": "python",
   "name": "c009-intel_distribution_of_python_3_oneapi-beta05-python"
  },
  "language_info": {
   "codemirror_mode": {
    "name": "ipython",
    "version": 3
   },
   "file_extension": ".py",
   "mimetype": "text/x-python",
   "name": "python",
   "nbconvert_exporter": "python",
   "pygments_lexer": "ipython3",
   "version": "3.9.13"
  },
  "widgets": {
   "application/vnd.jupyter.widget-state+json": {
    "state": {},
    "version_major": 2,
    "version_minor": 0
   }
  }
 },
 "nbformat": 4,
 "nbformat_minor": 5
}
