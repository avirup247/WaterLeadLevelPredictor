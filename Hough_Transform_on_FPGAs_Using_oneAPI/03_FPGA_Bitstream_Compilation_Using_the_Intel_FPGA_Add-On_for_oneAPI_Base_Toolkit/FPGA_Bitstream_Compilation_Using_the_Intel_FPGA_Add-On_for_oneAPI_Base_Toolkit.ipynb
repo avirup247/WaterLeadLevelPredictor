{
 "cells": [
  {
   "cell_type": "markdown",
   "metadata": {},
   "source": [
    "# FPGA Bitstream Compilation Using the Intel® FPGA Add-On for oneAPI Base Toolkit"
   ]
  },
  {
   "cell_type": "markdown",
   "metadata": {},
   "source": [
    "##### Sections\n",
    "- [Using the Intel® FPGA Add-On for oneAPI Base Toolkit with Intel FPGAs](#Using-the-Intel®-FPGA-Add-On-for-oneAPI-Base-Toolkit-with-Intel-FPGAs)\n",
    "- [Bitstream Compilation](#Bitstream-Compilation)\n",
    "- [References](#References)"
   ]
  },
  {
   "cell_type": "markdown",
   "metadata": {},
   "source": [
    "## Learning Objectives\n",
    "\n",
    "* Determine the bitstream compilation flow for FPGAs using the Intel® FPGA Add-On for oneAPI Base Toolkit\n",
    "* Use the Intel® DevCloud to test and run  your applications on FPGA run-time nodes. "
   ]
  },
  {
   "cell_type": "markdown",
   "metadata": {},
   "source": [
    "***\n",
    "# Using Intel® oneAPI Base Toolkit (Base Kit) with Intel FPGAs\n",
    "\n",
    "The development flow for Intel FPGAs with Intel® oneAPI Base Toolkit involves several stages and serves the following purposes (without having to endure the lengthy compile to a full FPGA executable each time):\n",
    "* Ensure functional correctness of your code.\n",
    "* Ensure the custom hardware built to implement your code has optimal performance\n",
    "\n",
    "The following diagram illustrates the FPGA development flow:\n",
    "\n",
    "<img src=\"Assets/fpga_flow.png\">\n",
    "\n",
    "- __Emulation__: Validates code functionality by compiling on the CPU to simulate computation.\n",
    "- __Optimization Report Generation__: Generates an optimization report that describes the structures generated on the FPGA, identifies performance bottlenecks, and estimates resource utilization. \n",
    "- __Bitstream Compilation__: Produces the real FPGA bitstream/image to execute on the target FPGA platform.\n",
    "- __Runtime Analysis__: Generates output files containing the following metrics and performance data:\n",
    "    - Total speedup\n",
    "    - Fraction of code accelerated\n",
    "    - Number of loops and functions offloaded\n",
    "    - A call tree showing offloadable and accelerated regions"
   ]
  },
  {
   "cell_type": "markdown",
   "metadata": {},
   "source": [
    "***\n",
    "# Bitstream Compilation\n",
    "\n",
    "\n",
    "After validating functionality and optimizing design, the next stage is to generate the FPGA bitstream (binary) and run it on the FPGA. The Intel® Quartus® Prime software maps the Verilog RTL specifying the design's circuit topology onto the FPGA's sea of primitive hardware resources. The Intel® Quartus® Prime software is included in the Intel® FPGA Add-On for oneAPI Base Toolkit, which is required for this compilation stage. The result is an FPGA hardware binary (also referred to as a bitstream). This compilation process takes hours. You can target one of the following Intel® Programmable Acceleration Cards (PAC) or a custom platform board:\n",
    "* Intel PAC with Arria® 10 GX FPGA\n",
    "* Intel® FPGA PAC D5005 (formerly known as Intel® PAC with Stratix® 10 SX FPGA)\n",
    "\n",
    "Optimization reports are also generated during this stage. The optimization report generated here (sometimes called the \"__static report__\") contains significant information about how the compiler has transformed your DPC++ device code into an FPGA design. The report contains visualizations of structures generated on the FPGA, performance and expected performance bottleneck information, and estimated resource utilization.\n",
    "\n",
    "## DPC++ Compiler Flags"
   ]
  },
  {
   "cell_type": "markdown",
   "metadata": {},
   "source": [
    "</style>\n",
    "<table style=\"border: 1px solid red;\">\n",
    "  <tr style=\"border: 1px solid red;\">\n",
    "    <th style=\"border: 1px solid red;\">FPGA hardware (default board)</th>\n",
    "    <th style=\"border: 1px solid red;\">FPGA hardware (explicit board)</th>\n",
    "  </tr>\n",
    "  <tr style=\"border: 1px solid red;\">\n",
    "    <td style=\"border: 1px solid red;\">dpcpp -fintelfpga -Xshardware fpga_compile.cpp -o fpga_compile.fpga</td>\n",
    "    <td style=\"border: 1px solid red;\">dpcpp -fintelfpga -Xshardware __-Xsboard=intel_s10sx_pac:pac_s10__ fpga_compile.cpp -o fpga_compile.fpga</td>\n",
    "  </tr>\n",
    "</table>"
   ]
  },
  {
   "cell_type": "markdown",
   "metadata": {},
   "source": [
    "Refer to the [fpga_compile](https://github.com/oneapi-src/oneAPI-samples/tree/master/DirectProgramming/DPC%2B%2BFPGA/Tutorials/GettingStarted/fpga_compile) tutorial for more information about DPC++ FPGA compilation process.\n",
    "\n",
    "__1) Examining the code and click ▶ to save the code to the respective files.__"
   ]
  },
  {
   "cell_type": "markdown",
   "metadata": {},
   "source": [
    "#### Host Code Main File"
   ]
  },
  {
   "cell_type": "code",
   "execution_count": null,
   "metadata": {},
   "outputs": [],
   "source": [
    "%%writefile src/bitstream/main.cpp\n",
    "//==============================================================\n",
    "// Copyright © 2020 Intel Corporation\n",
    "//\n",
    "// SPDX-License-Identifier: MIT\n",
    "// =============================================================\n",
    "\n",
    "#include <vector>\n",
    "#include <CL/sycl.hpp>\n",
    "#include <chrono>\n",
    "#include <fstream>\n",
    "#include \"hough_transform_kernel.hpp\"\n",
    "\n",
    "using namespace std;\n",
    "\n",
    "void read_image(char *image_array); // Function for converting a bitmap to an array of pixels\n",
    "class Hough_transform_kernel;\n",
    "\n",
    "int main() {\n",
    "  char pixels[IMAGE_SIZE];\n",
    "  short accumulators[THETAS*RHOS*2];\n",
    "\n",
    "  std::fill(accumulators, accumulators + THETAS*RHOS*2, 0);\n",
    "\n",
    "  read_image(pixels); //Read the bitmap file and get a vector of pixels\n",
    "\n",
    "  RunKernel(pixels, accumulators);\n",
    " \n",
    "  ifstream myFile;\n",
    "  myFile.open(\"util/golden_check_file.txt\",ifstream::in);\n",
    "  ofstream checkFile;\n",
    "  checkFile.open(\"util/compare_results.txt\",ofstream::out);\n",
    "  \n",
    "  vector<int> myList;\n",
    "  int number;\n",
    "  while (myFile >> number) {\n",
    "    myList.push_back(number);\n",
    "  }\n",
    "\t\n",
    "  bool failed = false;\n",
    "  for (int i=0; i<THETAS*RHOS*2; i++) {\n",
    "    if ((myList[i]>accumulators[i]+1) || (myList[i]<accumulators[i]-1)) { //Test the results against the golden results\n",
    "      failed = true;\n",
    "      checkFile << \"Failed at \" << i << \". Expected: \" << myList[i] << \", Actual: \"\n",
    "\t      << accumulators[i] << std::endl;\n",
    "    }\n",
    "  }\n",
    "\n",
    "  myFile.close();\n",
    "  checkFile.close();\n",
    "\n",
    "  if (failed) {printf(\"FAILED\\n\");}\n",
    "  else {printf(\"VERIFICATION PASSED!!\\n\");}\n",
    "\n",
    "  return 1;\n",
    "}\n",
    "\n",
    "//Struct of 3 bytes for R,G,B components\n",
    "typedef struct __attribute__((__packed__)) {\n",
    "  unsigned char  b;\n",
    "  unsigned char  g;\n",
    "  unsigned char  r;\n",
    "} PIXEL;\n",
    "\n",
    "void read_image(char *image_array) {\n",
    "  //Declare a vector to hold the pixels read from the image\n",
    "  //The image is 720x480, so the CPU runtimes are not too long for emulation\n",
    "  PIXEL im[WIDTH*HEIGHT];\n",
    "\t\n",
    "  //Open the image file for reading\n",
    "  ifstream img;\n",
    "  img.open(\"Assets/pic.bmp\",ios::in);\n",
    "  \n",
    "  //Bitmap files have a 54-byte header. Skip these bits\n",
    "  img.seekg(54,ios::beg);\n",
    "    \n",
    "  //Loop through the img stream and store pixels in an array\n",
    "  for (uint i = 0; i < WIDTH*HEIGHT; i++) {\n",
    "    img.read(reinterpret_cast<char*>(&im[i]),sizeof(PIXEL));\n",
    "\t      \n",
    "    //The image is black and white (passed through a Sobel filter already)\n",
    "    //Store 1 in the array for a white pixel, 0 for a black pixel\n",
    "    if (im[i].r==0 && im[i].g==0 && im[i].b==0) {\n",
    "      image_array[i] = 0;\n",
    "    } else {\n",
    "      image_array[i] = 1;\n",
    "    }\n",
    "  }\n",
    "}"
   ]
  },
  {
   "cell_type": "markdown",
   "metadata": {},
   "source": [
    "#### Kernel/Device Code Header File"
   ]
  },
  {
   "cell_type": "code",
   "execution_count": null,
   "metadata": {},
   "outputs": [],
   "source": [
    "%%writefile src/bitstream/hough_transform_kernel.hpp\n",
    "//==============================================================\n",
    "// Copyright © 2020 Intel Corporation\n",
    "//\n",
    "// SPDX-License-Identifier: MIT\n",
    "// =============================================================\n",
    "\n",
    "#include <vector>\n",
    "#include <CL/sycl.hpp>\n",
    "#include <CL/sycl/INTEL/fpga_extensions.hpp>\n",
    "#include \"../../util/sin_cos_values.h\"\n",
    "\n",
    "#define WIDTH 180\n",
    "#define HEIGHT 120\n",
    "#define IMAGE_SIZE WIDTH*HEIGHT\n",
    "#define THETAS 180\n",
    "#define RHOS 217 //Size of the image diagonally: (sqrt(180^2+120^2))\n",
    "#define NS (1000000000.0) // number of nanoseconds in a second\n",
    "\n",
    "using namespace sycl;\n",
    "\n",
    "void RunKernel(char pixels[], short accumulators[]);"
   ]
  },
  {
   "cell_type": "markdown",
   "metadata": {},
   "source": [
    "#### Kernel/Device code main file"
   ]
  },
  {
   "cell_type": "code",
   "execution_count": null,
   "metadata": {},
   "outputs": [],
   "source": [
    "%%writefile src/bitstream/hough_transform_kernel.cpp\n",
    "//==============================================================\n",
    "// Copyright © 2020 Intel Corporation\n",
    "//\n",
    "// SPDX-License-Identifier: MIT\n",
    "// =============================================================\n",
    "\n",
    "#include \"hough_transform_kernel.hpp\"\n",
    "\n",
    "class Hough_transform_kernel;\n",
    "\n",
    "void RunKernel(char pixels[], short accumulators[])\n",
    "{\n",
    "    event queue_event;\n",
    "    auto my_property_list = property_list{sycl::property::queue::enable_profiling()};\n",
    "\n",
    "    // Buffer setup: The SYCL buffer creation expects a type of sycl:: range for the size\n",
    "    range<1> num_pixels{IMAGE_SIZE};\n",
    "    range<1> num_accumulators{THETAS*RHOS*2};\n",
    "    range<1> num_table_values{180};\n",
    "\n",
    "    // Create the buffers that pass data between the host and FPGA\n",
    "    buffer<char, 1> pixels_buf(pixels, num_pixels);\n",
    "    buffer<short, 1> accumulators_buf(accumulators,num_accumulators);\n",
    "    buffer<float, 1> sin_table_buf(sinvals,num_table_values);\n",
    "    buffer<float, 1> cos_table_buf(cosvals,num_table_values);\n",
    "  \n",
    "    // Device selection: Explicitly compile for the FPGA_EMULATOR or FPGA\n",
    "    #if defined(FPGA_EMULATOR)\n",
    "        INTEL::fpga_emulator_selector device_selector;\n",
    "    #else\n",
    "        INTEL::fpga_selector device_selector;\n",
    "    #endif\n",
    "\n",
    "    try {\n",
    "    \n",
    "        queue device_queue(device_selector,NULL,my_property_list);\n",
    "        platform platform = device_queue.get_context().get_platform();\n",
    "        device my_device = device_queue.get_device();\n",
    "        std::cout << \"Platform name: \" <<  platform.get_info<sycl::info::platform::name>().c_str() << std::endl;\n",
    "        std::cout << \"Device name: \" <<  my_device.get_info<sycl::info::device::name>().c_str() << std::endl;\n",
    "\n",
    "        // Submit device queue \n",
    "        queue_event = device_queue.submit([&](sycl::handler &cgh) {    \n",
    "          // Create accessors\n",
    "          auto _pixels = pixels_buf.get_access<sycl::access::mode::read>(cgh);\n",
    "          auto _sin_table = sin_table_buf.get_access<sycl::access::mode::read>(cgh);\n",
    "          auto _cos_table = cos_table_buf.get_access<sycl::access::mode::read>(cgh);\n",
    "          auto _accumulators = accumulators_buf.get_access<sycl::access::mode::read_write>(cgh);\n",
    "\n",
    "          //Call the kernel\n",
    "          cgh.single_task<class Hough_transform_kernel>([=]() [[intel::kernel_args_restrict]] {\n",
    "            \n",
    "            //Load from global to local memory\n",
    "            [[intel::numbanks(256)]]\n",
    "            short accum_local[RHOS*2][256];\n",
    "            for (int i = 0; i < RHOS*2; i++) {\n",
    "              for (int j=0; j<THETAS; j++) {\n",
    "                accum_local[i][j] = 0;\n",
    "      \t       }\n",
    "            }\n",
    "            for (uint y=0; y<HEIGHT; y++) {\n",
    "              for (uint x=0; x<WIDTH; x++) {\n",
    "                unsigned short int increment = 0;\n",
    "                if (_pixels[(WIDTH*y)+x] != 0) {\n",
    "                  increment = 1;\n",
    "                } else {\n",
    "                  increment = 0;\n",
    "                }\n",
    "                \n",
    "                #pragma unroll 32 \n",
    "                [[intel::ivdep]]\n",
    "                for (int theta=0; theta<THETAS; theta++){\n",
    "                  int rho = x*_cos_table[theta] + y*_sin_table[theta];\n",
    "                  accum_local[rho+RHOS][theta] += increment;\n",
    "                }\n",
    "              }\n",
    "            }\n",
    "            //Store from local to global memory\n",
    "            for (int i = 0; i < RHOS*2; i++) {\n",
    "              for (int j=0; j<THETAS; j++) {\n",
    "    \t           _accumulators[i*THETAS+j] = accum_local[i][j];\n",
    "              }\n",
    "            }\n",
    "              \n",
    "          });\n",
    "        });\n",
    "    } catch (sycl::exception const &e) {\n",
    "        // Catches exceptions in the host code\n",
    "        std::cout << \"Caught a SYCL host exception:\\n\" << e.what() << \"\\n\";\n",
    "\n",
    "        // Most likely the runtime could not find FPGA hardware!\n",
    "        if (e.get_cl_code() == CL_DEVICE_NOT_FOUND) {\n",
    "          std::cout << \"If you are targeting an FPGA, ensure that your \"\n",
    "                       \"system has a correctly configured FPGA board.\\n\";\n",
    "          std::cout << \"If you are targeting the FPGA emulator, compile with \"\n",
    "                       \"-DFPGA_EMULATOR.\\n\";\n",
    "        }\n",
    "        std::terminate();\n",
    "    }\n",
    "\n",
    "    // Report kernel execution time and throughput\n",
    "    cl_ulong t1_kernel = queue_event.get_profiling_info<sycl::info::event_profiling::command_start>();\n",
    "    cl_ulong t2_kernel = queue_event.get_profiling_info<sycl::info::event_profiling::command_end>();\n",
    "    double time_kernel = (t2_kernel - t1_kernel) / NS;\n",
    "    std::cout << \"Kernel execution time: \" << time_kernel << \" seconds\" << std::endl;\n",
    "}"
   ]
  },
  {
   "cell_type": "markdown",
   "metadata": {},
   "source": [
    "## Compiling on the Intel® DevCloud\n",
    "\n",
    "When you log in to the Intel DevCloud, you are directed to a staging area—a login node. Actual work is submitted to dedicated compute nodes composed of CPUs, GPUs, and FPGAs. The interaction with these compute nodes is achieved through the Portable Batch System (PBS), that is, you must employ PBS utilities, such as qsub, pbsnodes, qstat, and so on, to request and use compute resources. The specific PBS implementation running on Intel DevCloud is called TORQUE*. Refer to the [Get started with the Intel oneAPI Base Toolkit on the DevCloud](https://devcloud.intel.com/oneapi/get-started/base-toolkit/) for more information. \n",
    "\n",
    "There are two modes of submitting jobs in the Intel DevCloud: __Batch__ mode and __Interactive__ mode. This module uses batch mode. Refer to the link above for more information on the difference between the two modes.  \n",
    "\n",
    "<img src=\"Assets/devcloud_user_interaction.png\">\n",
    "\n",
    "### Batch Mode Job Submission in Intel DevCloud\n",
    "\n",
    "A job is a script that is submitted to PBS through the qsub utility. By default, the qsub utility does not inherit the current environment variables or your current working directory. For this reason, it is necessary to submit jobs as scripts that handle the setup of the environment variables. To address the working directory issue, you can either use absolute paths or pass the _-d_ _\\<dir>_ option to qsub to set the working directory.\n",
    "\n",
    "__2) Create the build batch script and click ▶ to save the following code to a file:__"
   ]
  },
  {
   "cell_type": "code",
   "execution_count": null,
   "metadata": {},
   "outputs": [],
   "source": [
    "%%writefile util/build_fpga_bitstream.sh\n",
    "#!/bin/bash\n",
    "source /opt/intel/inteloneapi/setvars.sh\n",
    "dpcpp -fintelfpga -Xshardware src/bitstream/main.cpp src/bitstream/hough_transform_kernel.cpp -o bin/bitstream/hough_transform_live.fpga"
   ]
  },
  {
   "cell_type": "markdown",
   "metadata": {},
   "source": [
    "At this point, you are ready to submit your build job. \n",
    "\n",
    "__Note__: A hardware compile job can take a long time. You can increase the timeout of a batch job by using the -l walltime=hh:mm:ss option. The maximum timeout available for FPGA compile jobs is 24h.\n",
    "\n",
    "__3) Click ▶ for the following code to submit a build job:__"
   ]
  },
  {
   "cell_type": "code",
   "execution_count": null,
   "metadata": {},
   "outputs": [],
   "source": [
    "!  /bin/echo \"##\" $(whoami) is performing Hough Transform bitstream buil.\n",
    "!qsub -l nodes=1:fpga_compile:ppn=2 -l walltime=12:00:00 -d . util/build_fpga_bitstream.sh"
   ]
  },
  {
   "cell_type": "markdown",
   "metadata": {},
   "source": [
    "__You should see the Job ID displayed similar to the following:__\n",
    "***\n",
    "693662.v-qsvr-1.aidevcloud\n",
    "***\n",
    "__Click ▶ on the following code and you should see your submitted job in the queue.__"
   ]
  },
  {
   "cell_type": "code",
   "execution_count": null,
   "metadata": {},
   "outputs": [],
   "source": [
    "!qstat"
   ]
  },
  {
   "cell_type": "markdown",
   "metadata": {},
   "source": [
    "Since bitstream generation takes multiple hours, a binary (.fpga file) may not be available just yet. You will need to wait a few hours for the build job to complete and hough_transform_live.fpga file to appear.\n",
    "First, create the batch script and submit for running this job.\n",
    "\n",
    "__4) Click ▶ to save the code to a file:__"
   ]
  },
  {
   "cell_type": "code",
   "execution_count": null,
   "metadata": {},
   "outputs": [],
   "source": [
    "%%writefile util/run_fpga_bitstream.sh\n",
    "#!/bin/bash\n",
    "./bin/bitstream/hough_transform_live.fpga"
   ]
  },
  {
   "cell_type": "markdown",
   "metadata": {},
   "source": [
    "__5) Click ▶ on the following code to submit the execution job and observe the output:__"
   ]
  },
  {
   "cell_type": "code",
   "execution_count": null,
   "metadata": {},
   "outputs": [],
   "source": [
    "!  /bin/echo \"##\" $(whoami) is running Hough Transform FPGA image.\n",
    "!qsub -l nodes=1:fpga_runtime:arria10:ppn=2 -d . util/run_fpga_bitstream.sh"
   ]
  },
  {
   "cell_type": "markdown",
   "metadata": {},
   "source": [
    "#### Getting the result\n",
    "Once the job is completed, the resulting output and error streams (stdout and stderr) are placed in two separate text files in the project home directory. These output files have the following naming convention: \n",
    "\n",
    "* stdout: [run_fpga_bitstream.sh].o[Job ID].    Example: `run_fpga_bitstream.sh.o694174`\n",
    "* stderr: [run_fpga_bitstream.sh].e[Job ID].    Example: `run_fpga_bitstream.sh.e694174`\n",
    "\n",
    "[Job Name] is either the script name, or a custom name — for example, the name specified by the `-N` parameter of `qsub`. \n",
    "\n",
    "[Job ID] is the number you got from the output of the `qsub` command. \n",
    "\n",
    "__If you open the \"_.o_\" file, you should see something along these lines.__\n",
    "\n",
    "<img src=\"Assets/bitstream_output.png\">"
   ]
  },
  {
   "cell_type": "markdown",
   "metadata": {},
   "source": [
    "***\n",
    "## Summary\n",
    "\n",
    "The FPGA bitstream compilation stage is the final piece to getting your designs on the FPGA. By taking advantage of the Intel® DevCloud environment, you can easily specify hardware platforms and target FPGA products for running their algorithms. Reports generated in this stage are also more detailed providing closer-to-hardware insight on performance, latency, and data bottlenecks. "
   ]
  },
  {
   "cell_type": "markdown",
   "metadata": {},
   "source": [
    "***\n",
    "## References\n",
    "\n",
    "Refer to the following resources for more information about SYCL programming:\n",
    "\n",
    "#### FPGA-specific Documentation\n",
    "\n",
    "* [Website hub for using FPGAs with oneAPI](https://software.intel.com/content/www/us/en/develop/tools/oneapi/components/fpga.html)\n",
    "* [Intel® oneAPI Programming Guide](https://software.intel.com/content/www/us/en/develop/documentation/oneapi-programming-guide/top.html)\n",
    "* [Intel® oneAPI DPC++ FPGA Optimization Guide](https://software.intel.com/content/www/us/en/develop/documentation/oneapi-fpga-optimization-guide/top.html)\n",
    "* [oneAPI Fast Recompile Tutorial Documentation](https://github.com/oneapi-src/oneAPI-samples/tree/master/DirectProgramming/DPC%2B%2BFPGA/Tutorials/GettingStarted/fast_recompile)\n",
    "* [oneAPI FPGA Tutorials GitHub](https://github.com/oneapi-src/oneAPI-samples/tree/master/DirectProgramming/DPC%2B%2BFPGA/Tutorials)\n",
    "\n",
    "#### Intel® oneAPI Toolkit documentation\n",
    "* [Intel® oneAPI main page](https://software.intel.com/oneapi \"oneAPI main page\")\n",
    "* [Intel® oneAPI programming guide](https://software.intel.com/sites/default/files/oneAPIProgrammingGuide_3.pdf \"oneAPI programming guide\")\n",
    "* [Intel® DevCloud Signup](https://software.intel.com/en-us/devcloud/oneapi \"Intel DevCloud\")\n",
    "* [Intel® DevCloud Connect](https://devcloud.intel.com/datacenter/connect) \n",
    "* [Get Started with the Intel® oneAPI Base Toolkit for Linux*](https://software.intel.com/content/www/us/en/develop/documentation/get-started-with-intel-oneapi-base-linux/top.html)\n",
    "* [Get Started with the Intel® oneAPI Base Toolkit for Windows*](https://software.intel.com/content/www/us/en/develop/documentation/get-started-with-intel-oneapi-base-windows/top.html)\n",
    "* [oneAPI Specification elements](https://www.oneapi.com/spec/)\n",
    "\n",
    "#### SYCL \n",
    "* [SYCL* Specification (for version 1.2.1)](https://www.khronos.org/registry/SYCL/specs/sycl-1.2.1.pdf)\n",
    "\n",
    "#### DPC++\n",
    "* [Data Parallel C++ Book](https://link.springer.com/book/10.1007%2F978-1-4842-5574-2)\n",
    "\n",
    "#### Modern C++\n",
    "* [CPPReference](https://en.cppreference.com/w/)\n",
    "* [CPlusPlus](http://www.cplusplus.com/)"
   ]
  }
 ],
 "metadata": {
  "kernelspec": {
   "display_name": "Python 3.7 (Intel® oneAPI)",
   "language": "python",
   "name": "c009-intel_distribution_of_python_3_oneapi-beta05-python"
  },
  "language_info": {
   "codemirror_mode": {
    "name": "ipython",
    "version": 3
   },
   "file_extension": ".py",
   "mimetype": "text/x-python",
   "name": "python",
   "nbconvert_exporter": "python",
   "pygments_lexer": "ipython3",
   "version": "3.7.9"
  },
  "toc": {
   "base_numbering": 1,
   "nav_menu": {},
   "number_sections": true,
   "sideBar": true,
   "skip_h1_title": false,
   "title_cell": "Table of Contents",
   "title_sidebar": "Contents",
   "toc_cell": false,
   "toc_position": {
    "height": "525.6px",
    "left": "28px",
    "top": "137.8px",
    "width": "301.109px"
   },
   "toc_section_display": true,
   "toc_window_display": true
  }
 },
 "nbformat": 4,
 "nbformat_minor": 4
}
