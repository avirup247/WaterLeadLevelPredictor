{
 "cells": [
  {
   "cell_type": "markdown",
   "metadata": {},
   "source": [
    "# Using MPI with GPU Offload Modules"
   ]
  },
  {
   "cell_type": "markdown",
   "metadata": {},
   "source": [
    "These notebooks will introduce you to the concept of using MPI along with GPU offload with the [Intel® oneAPI Toolkits](https://software.intel.com/oneapi \"oneAPI main page\"). \n",
    "\n",
    "* [Using MPI with DPC++](mpi_dpcpp.ipynb)\n",
    "* [Using MPI with OpenMP* Offload (C/C++)](mpi_openmp_c.ipynb)\n",
    "* [Using MPI with OpenMP* Offload (Fortran)](mpi_openmp_f.ipynb)\n",
    "***"
   ]
  },
  {
   "cell_type": "markdown",
   "metadata": {},
   "source": [
    "@Intel Corporation | [\\*Trademark](https://www.intel.com/content/www/us/en/legal/trademarks.html)"
   ]
  }
 ],
 "metadata": {
  "kernelspec": {
   "display_name": "Python 3.7 (Intel® oneAPI)",
   "language": "python",
   "name": "c009-intel_distribution_of_python_3_oneapi-beta05-python"
  },
  "language_info": {
   "codemirror_mode": {
    "name": "ipython",
    "version": 3
   },
   "file_extension": ".py",
   "mimetype": "text/x-python",
   "name": "python",
   "nbconvert_exporter": "python",
   "pygments_lexer": "ipython3",
   "version": "3.7.7"
  }
 },
 "nbformat": 4,
 "nbformat_minor": 4
}
